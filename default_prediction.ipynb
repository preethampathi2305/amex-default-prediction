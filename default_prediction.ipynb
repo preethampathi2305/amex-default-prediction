{
 "cells": [
  {
   "cell_type": "code",
   "execution_count": 2,
   "metadata": {},
   "outputs": [],
   "source": [
    "import pyspark\n",
    "from pyspark.sql import SparkSession\n",
    "from pyspark.sql.functions import *\n",
    "from pyspark.sql.types import *\n",
    "from pyspark.sql.window import Window\n",
    "from pyspark.ml.functions import vector_to_array\n",
    "\n",
    "from pyspark.ml.feature import PCA\n",
    "from pyspark.ml.feature import VectorAssembler\n",
    "from pyspark.ml.feature import StandardScaler\n",
    "from pyspark.ml import Pipeline\n",
    "from math import pi\n",
    "\n",
    "from pyspark.ml.classification import GBTClassifier\n",
    "from pyspark.ml.evaluation import BinaryClassificationEvaluator\n",
    "from pyspark.ml.tuning import ParamGridBuilder, CrossValidator\n",
    "\n",
    "import warnings\n",
    "warnings.filterwarnings('ignore')\n",
    "\n",
    "import matplotlib.pyplot as plt"
   ]
  },
  {
   "cell_type": "code",
   "execution_count": 3,
   "metadata": {},
   "outputs": [
    {
     "name": "stderr",
     "output_type": "stream",
     "text": [
      "Setting default log level to \"WARN\".\n",
      "To adjust logging level use sc.setLogLevel(newLevel). For SparkR, use setLogLevel(newLevel).\n"
     ]
    },
    {
     "name": "stdout",
     "output_type": "stream",
     "text": [
      "23/08/17 15:36:50 WARN NativeCodeLoader: Unable to load native-hadoop library for your platform... using builtin-java classes where applicable\n"
     ]
    }
   ],
   "source": [
    "spark = SparkSession.builder.appName('amex')\\\n",
    "    .config('spark.driver.memory', '192g')\\\n",
    "    .config('spark.executor.memory', '192g')\\\n",
    "    .config('spark.executor.cores', '32')\\\n",
    "    .config('spark.driver.cores', '32')\\\n",
    "    .config('spark.memory.offHeap.size', '192g')\\\n",
    "    .config('spark.executor.memoryOverhead', '10g')\\\n",
    "    .getOrCreate()\n",
    "    "
   ]
  },
  {
   "cell_type": "code",
   "execution_count": 4,
   "metadata": {},
   "outputs": [
    {
     "name": "stderr",
     "output_type": "stream",
     "text": [
      "                                                                                \r"
     ]
    }
   ],
   "source": [
    "df = spark.read.csv('train_data.csv', header=True, inferSchema=True)\n",
    "df = df.orderBy(['customer_ID','S_2'])"
   ]
  },
  {
   "cell_type": "code",
   "execution_count": 8,
   "metadata": {},
   "outputs": [
    {
     "name": "stdout",
     "output_type": "stream",
     "text": [
      "root\n",
      " |-- customer_ID: string (nullable = true)\n",
      " |-- S_2: timestamp (nullable = true)\n",
      " |-- P_2: double (nullable = true)\n",
      " |-- D_39: double (nullable = true)\n",
      " |-- B_1: double (nullable = true)\n",
      " |-- B_2: double (nullable = true)\n",
      " |-- R_1: double (nullable = true)\n",
      " |-- S_3: double (nullable = true)\n",
      " |-- D_41: double (nullable = true)\n",
      " |-- B_3: double (nullable = true)\n",
      " |-- D_42: double (nullable = true)\n",
      " |-- D_43: double (nullable = true)\n",
      " |-- D_44: double (nullable = true)\n",
      " |-- B_4: double (nullable = true)\n",
      " |-- D_45: double (nullable = true)\n",
      " |-- B_5: double (nullable = true)\n",
      " |-- R_2: double (nullable = true)\n",
      " |-- D_46: double (nullable = true)\n",
      " |-- D_47: double (nullable = true)\n",
      " |-- D_48: double (nullable = true)\n",
      " |-- D_49: double (nullable = true)\n",
      " |-- B_6: double (nullable = true)\n",
      " |-- B_7: double (nullable = true)\n",
      " |-- B_8: double (nullable = true)\n",
      " |-- D_50: double (nullable = true)\n",
      " |-- D_51: double (nullable = true)\n",
      " |-- B_9: double (nullable = true)\n",
      " |-- R_3: double (nullable = true)\n",
      " |-- D_52: double (nullable = true)\n",
      " |-- P_3: double (nullable = true)\n",
      " |-- B_10: double (nullable = true)\n",
      " |-- D_53: double (nullable = true)\n",
      " |-- S_5: double (nullable = true)\n",
      " |-- B_11: double (nullable = true)\n",
      " |-- S_6: double (nullable = true)\n",
      " |-- D_54: double (nullable = true)\n",
      " |-- R_4: double (nullable = true)\n",
      " |-- S_7: double (nullable = true)\n",
      " |-- B_12: double (nullable = true)\n",
      " |-- S_8: double (nullable = true)\n",
      " |-- D_55: double (nullable = true)\n",
      " |-- D_56: double (nullable = true)\n",
      " |-- B_13: double (nullable = true)\n",
      " |-- R_5: double (nullable = true)\n",
      " |-- D_58: double (nullable = true)\n",
      " |-- S_9: double (nullable = true)\n",
      " |-- B_14: double (nullable = true)\n",
      " |-- D_59: double (nullable = true)\n",
      " |-- D_60: double (nullable = true)\n",
      " |-- D_61: double (nullable = true)\n",
      " |-- B_15: double (nullable = true)\n",
      " |-- S_11: double (nullable = true)\n",
      " |-- D_62: double (nullable = true)\n",
      " |-- D_63: string (nullable = true)\n",
      " |-- D_64: string (nullable = true)\n",
      " |-- D_65: double (nullable = true)\n",
      " |-- B_16: double (nullable = true)\n",
      " |-- B_17: double (nullable = true)\n",
      " |-- B_18: double (nullable = true)\n",
      " |-- B_19: double (nullable = true)\n",
      " |-- D_66: double (nullable = true)\n",
      " |-- B_20: double (nullable = true)\n",
      " |-- D_68: double (nullable = true)\n",
      " |-- S_12: double (nullable = true)\n",
      " |-- R_6: double (nullable = true)\n",
      " |-- S_13: double (nullable = true)\n",
      " |-- B_21: double (nullable = true)\n",
      " |-- D_69: double (nullable = true)\n",
      " |-- B_22: double (nullable = true)\n",
      " |-- D_70: double (nullable = true)\n",
      " |-- D_71: double (nullable = true)\n",
      " |-- D_72: double (nullable = true)\n",
      " |-- S_15: double (nullable = true)\n",
      " |-- B_23: double (nullable = true)\n",
      " |-- D_73: double (nullable = true)\n",
      " |-- P_4: double (nullable = true)\n",
      " |-- D_74: double (nullable = true)\n",
      " |-- D_75: double (nullable = true)\n",
      " |-- D_76: double (nullable = true)\n",
      " |-- B_24: double (nullable = true)\n",
      " |-- R_7: double (nullable = true)\n",
      " |-- D_77: double (nullable = true)\n",
      " |-- B_25: double (nullable = true)\n",
      " |-- B_26: double (nullable = true)\n",
      " |-- D_78: double (nullable = true)\n",
      " |-- D_79: double (nullable = true)\n",
      " |-- R_8: double (nullable = true)\n",
      " |-- R_9: double (nullable = true)\n",
      " |-- S_16: double (nullable = true)\n",
      " |-- D_80: double (nullable = true)\n",
      " |-- R_10: double (nullable = true)\n",
      " |-- R_11: double (nullable = true)\n",
      " |-- B_27: double (nullable = true)\n",
      " |-- D_81: double (nullable = true)\n",
      " |-- D_82: double (nullable = true)\n",
      " |-- S_17: double (nullable = true)\n",
      " |-- R_12: double (nullable = true)\n",
      " |-- B_28: double (nullable = true)\n",
      " |-- R_13: double (nullable = true)\n",
      " |-- D_83: double (nullable = true)\n",
      " |-- R_14: double (nullable = true)\n",
      " |-- R_15: double (nullable = true)\n",
      " |-- D_84: double (nullable = true)\n",
      " |-- R_16: double (nullable = true)\n",
      " |-- B_29: double (nullable = true)\n",
      " |-- B_30: double (nullable = true)\n",
      " |-- S_18: double (nullable = true)\n",
      " |-- D_86: double (nullable = true)\n",
      " |-- D_87: double (nullable = true)\n",
      " |-- R_17: double (nullable = true)\n",
      " |-- R_18: double (nullable = true)\n",
      " |-- D_88: double (nullable = true)\n",
      " |-- B_31: integer (nullable = true)\n",
      " |-- S_19: double (nullable = true)\n",
      " |-- R_19: double (nullable = true)\n",
      " |-- B_32: double (nullable = true)\n",
      " |-- S_20: double (nullable = true)\n",
      " |-- R_20: double (nullable = true)\n",
      " |-- R_21: double (nullable = true)\n",
      " |-- B_33: double (nullable = true)\n",
      " |-- D_89: double (nullable = true)\n",
      " |-- R_22: double (nullable = true)\n",
      " |-- R_23: double (nullable = true)\n",
      " |-- D_91: double (nullable = true)\n",
      " |-- D_92: double (nullable = true)\n",
      " |-- D_93: double (nullable = true)\n",
      " |-- D_94: double (nullable = true)\n",
      " |-- R_24: double (nullable = true)\n",
      " |-- R_25: double (nullable = true)\n",
      " |-- D_96: double (nullable = true)\n",
      " |-- S_22: double (nullable = true)\n",
      " |-- S_23: double (nullable = true)\n",
      " |-- S_24: double (nullable = true)\n",
      " |-- S_25: double (nullable = true)\n",
      " |-- S_26: double (nullable = true)\n",
      " |-- D_102: double (nullable = true)\n",
      " |-- D_103: double (nullable = true)\n",
      " |-- D_104: double (nullable = true)\n",
      " |-- D_105: double (nullable = true)\n",
      " |-- D_106: double (nullable = true)\n",
      " |-- D_107: double (nullable = true)\n",
      " |-- B_36: double (nullable = true)\n",
      " |-- B_37: double (nullable = true)\n",
      " |-- R_26: double (nullable = true)\n",
      " |-- R_27: double (nullable = true)\n",
      " |-- B_38: double (nullable = true)\n",
      " |-- D_108: double (nullable = true)\n",
      " |-- D_109: double (nullable = true)\n",
      " |-- D_110: double (nullable = true)\n",
      " |-- D_111: double (nullable = true)\n",
      " |-- B_39: double (nullable = true)\n",
      " |-- D_112: double (nullable = true)\n",
      " |-- B_40: double (nullable = true)\n",
      " |-- S_27: double (nullable = true)\n",
      " |-- D_113: double (nullable = true)\n",
      " |-- D_114: double (nullable = true)\n",
      " |-- D_115: double (nullable = true)\n",
      " |-- D_116: double (nullable = true)\n",
      " |-- D_117: double (nullable = true)\n",
      " |-- D_118: double (nullable = true)\n",
      " |-- D_119: double (nullable = true)\n",
      " |-- D_120: double (nullable = true)\n",
      " |-- D_121: double (nullable = true)\n",
      " |-- D_122: double (nullable = true)\n",
      " |-- D_123: double (nullable = true)\n",
      " |-- D_124: double (nullable = true)\n",
      " |-- D_125: double (nullable = true)\n",
      " |-- D_126: double (nullable = true)\n",
      " |-- D_127: double (nullable = true)\n",
      " |-- D_128: double (nullable = true)\n",
      " |-- D_129: double (nullable = true)\n",
      " |-- B_41: double (nullable = true)\n",
      " |-- B_42: double (nullable = true)\n",
      " |-- D_130: double (nullable = true)\n",
      " |-- D_131: double (nullable = true)\n",
      " |-- D_132: double (nullable = true)\n",
      " |-- D_133: double (nullable = true)\n",
      " |-- R_28: double (nullable = true)\n",
      " |-- D_134: double (nullable = true)\n",
      " |-- D_135: double (nullable = true)\n",
      " |-- D_136: double (nullable = true)\n",
      " |-- D_137: double (nullable = true)\n",
      " |-- D_138: double (nullable = true)\n",
      " |-- D_139: double (nullable = true)\n",
      " |-- D_140: double (nullable = true)\n",
      " |-- D_141: double (nullable = true)\n",
      " |-- D_142: double (nullable = true)\n",
      " |-- D_143: double (nullable = true)\n",
      " |-- D_144: double (nullable = true)\n",
      " |-- D_145: double (nullable = true)\n",
      "\n"
     ]
    }
   ],
   "source": [
    "df.printSchema()"
   ]
  },
  {
   "cell_type": "code",
   "execution_count": 4,
   "metadata": {},
   "outputs": [],
   "source": [
    "all_cols = [c for c in df.columns if c not in ['customer_ID', 'S_2']]\n",
    "cat_features = [\"B_30\", \"B_38\", \"D_114\", \"D_116\", \"D_117\", \"D_120\", \"D_126\", \"D_63\", \"D_64\", \"D_66\", \"D_68\"]\n",
    "num_features = [col for col in all_cols if col not in cat_features]\n",
    "num_diff_features = [col + '_diff' for col in num_features]\n",
    "\n",
    "test_num_group = df.groupBy(\"customer_ID\")\n",
    "\n",
    "test_num_agg = test_num_group.agg(\n",
    "    *[mean(col).alias(f\"{col}_mean\") for col in num_features],\n",
    "    *[stddev(col).alias(f\"{col}_std\") for col in num_features],\n",
    "    *[min(col).alias(f\"{col}_min\") for col in num_features],\n",
    "    *[max(col).alias(f\"{col}_max\") for col in num_features],\n",
    "    *[last(col).alias(f\"{col}_last\") for col in num_features]\n",
    ")"
   ]
  },
  {
   "cell_type": "code",
   "execution_count": null,
   "metadata": {},
   "outputs": [],
   "source": [
    "test_num_agg.show(5)"
   ]
  },
  {
   "cell_type": "code",
   "execution_count": null,
   "metadata": {},
   "outputs": [],
   "source": [
    "df = df.select(\"customer_ID\", \"S_2\")"
   ]
  },
  {
   "cell_type": "code",
   "execution_count": null,
   "metadata": {},
   "outputs": [],
   "source": [
    "def lag_diff(col_values):\n",
    "    return [0.0] + [(col_values[i] - col_values[i - 1]) for i in range(1, len(col_values))]\n",
    "\n",
    "for cc in num_features:\n",
    "    test_num_agg = test_num_agg.withColumn(f\"{cc}_max_min_diff\", col(f\"{cc}_max\") - col(f\"{cc}_min\"))\n",
    "    test_num_agg = test_num_agg.withColumn(f\"{cc}_last_mean_diff\", (col(f\"{cc}_last\") - col(f\"{cc}_mean\")).cast(\"float\"))\n",
    "    test_num_agg = test_num_agg.withColumn(f\"{cc}_last_mean_ratio\", (col(f\"{cc}_last\") / col(f\"{cc}_mean\")).cast(\"float\"))\n",
    "    test_num_agg = test_num_agg.withColumn(f\"{cc}_min_max_ratio\", (col(f\"{cc}_min\") / col(f\"{cc}_max\")).cast(\"float\"))\n",
    "\n",
    "    # Extract diff features\n",
    "    new_col = f\"{cc}_diff\"\n",
    "    window_spec = Window.partitionBy(\"customer_ID\").orderBy(monotonically_increasing_id())\n",
    "    test_num_agg = test_num_agg.withColumn(new_col, lag_diff(col(cc)).cast(\"float\"))"
   ]
  },
  {
   "cell_type": "code",
   "execution_count": 4,
   "metadata": {},
   "outputs": [],
   "source": [
    "\n",
    "\n",
    "# Dataframe for diff features\n",
    "\n",
    "\n",
    "test_cat_agg = test_num_group.agg(\n",
    "    *[count(col).alias(f\"{col}_count\") for col in cat_features],\n",
    "    *[last(col).alias(f\"{col}_last\") for col in cat_features],\n",
    "    *[countDistinct(col).alias(f\"{col}_nunique\") for col in cat_features]\n",
    ")\n",
    "\n",
    "df = test_num_agg.join(test_cat_agg, \"customer_ID\", \"inner\")\n",
    "\n",
    "test_num_diff_agg = df_diff.groupBy(\"customer_ID\").agg(\n",
    "    *[F.max(col).alias(f\"{col}_max\") for col in num_diff_features]\n",
    ")\n",
    "\n",
    "df = df.join(test_num_diff_agg, \"customer_ID\", \"inner\")\n",
    "\n",
    "\n",
    "print('shape after engineering', df.count(), len(df.columns))\n"
   ]
  },
  {
   "cell_type": "code",
   "execution_count": 9,
   "metadata": {},
   "outputs": [
    {
     "name": "stderr",
     "output_type": "stream",
     "text": [
      "                                                                                \r"
     ]
    },
    {
     "data": {
      "text/plain": [
       "{Param(parent='GBTClassifier_c085688d38e8', name='cacheNodeIds', doc='If false, the algorithm will pass trees to executors to match instances with nodes. If true, the algorithm will cache node IDs for each instance. Caching can speed up training of deeper trees. Users can set how often should the cache be checkpointed or disable it by setting checkpointInterval.'): False,\n",
       " Param(parent='GBTClassifier_c085688d38e8', name='checkpointInterval', doc='set checkpoint interval (>= 1) or disable checkpoint (-1). E.g. 10 means that the cache will get checkpointed every 10 iterations. Note: this setting will be ignored if the checkpoint directory is not set in the SparkContext.'): 10,\n",
       " Param(parent='GBTClassifier_c085688d38e8', name='featureSubsetStrategy', doc=\"The number of features to consider for splits at each tree node. Supported options: 'auto' (choose automatically for task: If numTrees == 1, set to 'all'. If numTrees > 1 (forest), set to 'sqrt' for classification and to 'onethird' for regression), 'all' (use all features), 'onethird' (use 1/3 of the features), 'sqrt' (use sqrt(number of features)), 'log2' (use log2(number of features)), 'n' (when n is in the range (0, 1.0], use n * number of features. When n is in the range (1, number of features), use n features). default = 'auto'\"): 'all',\n",
       " Param(parent='GBTClassifier_c085688d38e8', name='featuresCol', doc='features column name.'): 'pca_features',\n",
       " Param(parent='GBTClassifier_c085688d38e8', name='impurity', doc='Criterion used for information gain calculation (case-insensitive). Supported options: variance'): 'variance',\n",
       " Param(parent='GBTClassifier_c085688d38e8', name='labelCol', doc='label column name.'): 'target',\n",
       " Param(parent='GBTClassifier_c085688d38e8', name='leafCol', doc='Leaf indices column name. Predicted leaf index of each instance in each tree by preorder.'): '',\n",
       " Param(parent='GBTClassifier_c085688d38e8', name='lossType', doc='Loss function which GBT tries to minimize (case-insensitive). Supported options: logistic'): 'logistic',\n",
       " Param(parent='GBTClassifier_c085688d38e8', name='maxBins', doc='Max number of bins for discretizing continuous features.  Must be >=2 and >= number of categories for any categorical feature.'): 32,\n",
       " Param(parent='GBTClassifier_c085688d38e8', name='maxDepth', doc='Maximum depth of the tree. (>= 0) E.g., depth 0 means 1 leaf node; depth 1 means 1 internal node + 2 leaf nodes. Must be in range [0, 30].'): 2,\n",
       " Param(parent='GBTClassifier_c085688d38e8', name='maxIter', doc='max number of iterations (>= 0).'): 10,\n",
       " Param(parent='GBTClassifier_c085688d38e8', name='maxMemoryInMB', doc='Maximum memory in MB allocated to histogram aggregation. If too small, then 1 node will be split per iteration, and its aggregates may exceed this size.'): 256,\n",
       " Param(parent='GBTClassifier_c085688d38e8', name='minInfoGain', doc='Minimum information gain for a split to be considered at a tree node.'): 0.0,\n",
       " Param(parent='GBTClassifier_c085688d38e8', name='minInstancesPerNode', doc='Minimum number of instances each child must have after split. If a split causes the left or right child to have fewer than minInstancesPerNode, the split will be discarded as invalid. Should be >= 1.'): 1,\n",
       " Param(parent='GBTClassifier_c085688d38e8', name='minWeightFractionPerNode', doc='Minimum fraction of the weighted sample count that each child must have after split. If a split causes the fraction of the total weight in the left or right child to be less than minWeightFractionPerNode, the split will be discarded as invalid. Should be in interval [0.0, 0.5).'): 0.0,\n",
       " Param(parent='GBTClassifier_c085688d38e8', name='predictionCol', doc='prediction column name.'): 'prediction',\n",
       " Param(parent='GBTClassifier_c085688d38e8', name='probabilityCol', doc='Column name for predicted class conditional probabilities. Note: Not all models output well-calibrated probability estimates! These probabilities should be treated as confidences, not precise probabilities.'): 'probability',\n",
       " Param(parent='GBTClassifier_c085688d38e8', name='rawPredictionCol', doc='raw prediction (a.k.a. confidence) column name.'): 'rawPrediction',\n",
       " Param(parent='GBTClassifier_c085688d38e8', name='seed', doc='random seed.'): -6125093932815992168,\n",
       " Param(parent='GBTClassifier_c085688d38e8', name='stepSize', doc='Step size (a.k.a. learning rate) in interval (0, 1] for shrinking the contribution of each estimator.'): 0.1,\n",
       " Param(parent='GBTClassifier_c085688d38e8', name='subsamplingRate', doc='Fraction of the training data used for learning each decision tree, in range (0, 1].'): 1.0,\n",
       " Param(parent='GBTClassifier_c085688d38e8', name='validationTol', doc='Threshold for stopping early when fit with validation is used. If the error rate on the validation input changes by less than the validationTol, then learning will stop early (before `maxIter`). This parameter is ignored when fit without validation is used.'): 0.01}"
      ]
     },
     "execution_count": 9,
     "metadata": {},
     "output_type": "execute_result"
    }
   ],
   "source": [
    "gbt = GBTClassifier(labelCol='target', featuresCol='pca_features', maxIter=10)\n",
    "paramGrid = ParamGridBuilder()\\\n",
    "    .addGrid(gbt.maxDepth, [2]).build()\n",
    "    .addGrid(gbt.maxBins, [20, 60])\\\n",
    "    .addGrid(gbt.maxIter, [10, 20])\\\n",
    "    .addGrid(gbt.stepSize, [0.1, 0.2])\\\n",
    "    \n",
    "evaluator = BinaryClassificationEvaluator(labelCol='target', metricName='areaUnderROC')\n",
    "cv = CrossValidator(estimator=gbt, estimatorParamMaps=paramGrid, evaluator=evaluator, numFolds=3)\n",
    "cvModel = cv.fit(df)\n",
    "\n",
    "cvModel.bestModel.extractParamMap()"
   ]
  },
  {
   "cell_type": "code",
   "execution_count": 10,
   "metadata": {},
   "outputs": [
    {
     "data": {
      "text/plain": [
       "2"
      ]
     },
     "execution_count": 10,
     "metadata": {},
     "output_type": "execute_result"
    }
   ],
   "source": [
    "cvModel.bestModel.getMaxDepth()"
   ]
  },
  {
   "cell_type": "code",
   "execution_count": 11,
   "metadata": {},
   "outputs": [],
   "source": [
    "# save model\n",
    "cvModel.bestModel.write().overwrite().save('gbt_model')"
   ]
  },
  {
   "cell_type": "code",
   "execution_count": 3,
   "metadata": {},
   "outputs": [
    {
     "name": "stderr",
     "output_type": "stream",
     "text": [
      "                                                                                \r"
     ]
    },
    {
     "name": "stdout",
     "output_type": "stream",
     "text": [
      "23/07/17 00:19:19 WARN package: Truncated the string representation of a plan since it was too large. This behavior can be adjusted by setting 'spark.sql.debug.maxToStringFields'.\n"
     ]
    },
    {
     "name": "stderr",
     "output_type": "stream",
     "text": [
      "[Stage 147:>                                                     (0 + 40) / 200]\r"
     ]
    },
    {
     "name": "stdout",
     "output_type": "stream",
     "text": [
      "23/07/17 00:21:56 WARN InstanceBuilder$NativeBLAS: Failed to load implementation from:dev.ludovic.netlib.blas.JNIBLAS\n",
      "23/07/17 00:21:56 WARN InstanceBuilder$NativeBLAS: Failed to load implementation from:dev.ludovic.netlib.blas.ForeignLinkerBLAS\n"
     ]
    },
    {
     "name": "stderr",
     "output_type": "stream",
     "text": [
      "                                                                                \r"
     ]
    },
    {
     "name": "stdout",
     "output_type": "stream",
     "text": [
      "23/07/17 00:22:09 WARN LAPACK: Failed to load implementation from: com.github.fommil.netlib.NativeSystemLAPACK\n",
      "23/07/17 00:22:09 WARN LAPACK: Failed to load implementation from: com.github.fommil.netlib.NativeRefLAPACK\n"
     ]
    },
    {
     "name": "stderr",
     "output_type": "stream",
     "text": [
      "                                                                                \r"
     ]
    }
   ],
   "source": [
    "df,c1,c2 = load_data('train_data.csv','train_labels.csv')"
   ]
  },
  {
   "cell_type": "code",
   "execution_count": 8,
   "metadata": {},
   "outputs": [
    {
     "name": "stderr",
     "output_type": "stream",
     "text": [
      "                                                                                ]\r"
     ]
    }
   ],
   "source": [
    "test_df,c1,c2 = load_data('test_data.csv')"
   ]
  },
  {
   "cell_type": "code",
   "execution_count": 5,
   "metadata": {},
   "outputs": [],
   "source": [
    "# load model\n",
    "from pyspark.ml.classification import GBTClassificationModel\n",
    "gbt_model = GBTClassificationModel.load('gbt_model')\n",
    "\n",
    "pred = gbt_model.transform(test_df)\n",
    "pred = pred.select(['customer_ID', 'prediction'])"
   ]
  },
  {
   "cell_type": "code",
   "execution_count": 9,
   "metadata": {},
   "outputs": [
    {
     "name": "stderr",
     "output_type": "stream",
     "text": [
      "[Stage 310:=====================================================> (43 + 1) / 44]\r"
     ]
    },
    {
     "name": "stdout",
     "output_type": "stream",
     "text": [
      "Accuracy:  0.8474727517246379\n"
     ]
    },
    {
     "name": "stderr",
     "output_type": "stream",
     "text": [
      "                                                                                \r"
     ]
    }
   ],
   "source": [
    "pred = pred.select('idx', 'target', 'probability', 'prediction')\n",
    "correct = pred.filter(pred.target == pred.prediction).count()\n",
    "total = pred.count()\n",
    "print('Accuracy: ', correct / total)"
   ]
  },
  {
   "cell_type": "code",
   "execution_count": 6,
   "metadata": {},
   "outputs": [
    {
     "name": "stderr",
     "output_type": "stream",
     "text": [
      "                                                                                ]\r"
     ]
    }
   ],
   "source": [
    "# to csv\n",
    "pred = pred.toPandas()\n"
   ]
  },
  {
   "cell_type": "code",
   "execution_count": 8,
   "metadata": {},
   "outputs": [],
   "source": [
    "pred['prediction'] = pred['prediction'].astype(int)\n",
    "pred.to_csv('pred.csv', index=False)"
   ]
  },
  {
   "cell_type": "code",
   "execution_count": null,
   "metadata": {},
   "outputs": [],
   "source": []
  }
 ],
 "metadata": {
  "kernelspec": {
   "display_name": "ml",
   "language": "python",
   "name": "python3"
  },
  "language_info": {
   "codemirror_mode": {
    "name": "ipython",
    "version": 3
   },
   "file_extension": ".py",
   "mimetype": "text/x-python",
   "name": "python",
   "nbconvert_exporter": "python",
   "pygments_lexer": "ipython3",
   "version": "3.10.11"
  },
  "orig_nbformat": 4
 },
 "nbformat": 4,
 "nbformat_minor": 2
}
